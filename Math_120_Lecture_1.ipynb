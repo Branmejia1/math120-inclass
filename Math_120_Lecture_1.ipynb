{
  "nbformat": 4,
  "nbformat_minor": 0,
  "metadata": {
    "colab": {
      "provenance": [],
      "authorship_tag": "ABX9TyNqrfAz243RB7hE++yAiSQz",
      "include_colab_link": true
    },
    "kernelspec": {
      "name": "python3",
      "display_name": "Python 3"
    },
    "language_info": {
      "name": "python"
    }
  },
  "cells": [
    {
      "cell_type": "markdown",
      "metadata": {
        "id": "view-in-github",
        "colab_type": "text"
      },
      "source": [
        "<a href=\"https://colab.research.google.com/github/Branmejia1/math120-inclass/blob/main/Math_120_Lecture_1.ipynb\" target=\"_parent\"><img src=\"https://colab.research.google.com/assets/colab-badge.svg\" alt=\"Open In Colab\"/></a>"
      ]
    },
    {
      "cell_type": "code",
      "execution_count": null,
      "metadata": {
        "id": "qXqGZVcofN9G"
      },
      "outputs": [],
      "source": []
    },
    {
      "cell_type": "markdown",
      "source": [
        "# Week 1 notebook\n"
      ],
      "metadata": {
        "id": "-pZ3f_PsozhV"
      }
    },
    {
      "cell_type": "markdown",
      "source": [
        "### Intro Programming"
      ],
      "metadata": {
        "id": "c3xGETS3pNf_"
      }
    },
    {
      "cell_type": "markdown",
      "source": [
        "This is a markdown/text cell"
      ],
      "metadata": {
        "id": "b8bk2ffzpVx0"
      }
    },
    {
      "cell_type": "markdown",
      "source": [
        "**bold text**\n",
        "# New Section\n",
        "*italicized text*\n",
        "\n",
        "\n",
        "```\n",
        "# This is formatted as code\n",
        "```\n",
        "[link text](https://)\n",
        "\n",
        "\n",
        "> Add blockquote\n",
        "\n",
        "\n",
        "1.   List item\n",
        "2.   List item\n",
        "\n",
        "\n",
        "\n",
        "*   List item\n",
        "*   List item\n",
        "\n",
        "\n",
        "---\n",
        "😀\n",
        "\n",
        "\n",
        "\n",
        "\n"
      ],
      "metadata": {
        "id": "KozT7dH9pbW5"
      }
    },
    {
      "cell_type": "markdown",
      "source": [
        "# Python as a Calculator\n"
      ],
      "metadata": {
        "id": "pqun0NuXp7yc"
      }
    },
    {
      "cell_type": "code",
      "source": [
        "# arithmatic examples\n",
        "12 + 12 # addition\n",
        "12 * 13 # multiplication\n",
        "25 / 5 # division"
      ],
      "metadata": {
        "colab": {
          "base_uri": "https://localhost:8080/"
        },
        "id": "CqNGCw9Dq51z",
        "outputId": "f1005f09-8525-4316-b2d5-269ec33d1242"
      },
      "execution_count": null,
      "outputs": [
        {
          "output_type": "execute_result",
          "data": {
            "text/plain": [
              "5.0"
            ]
          },
          "metadata": {},
          "execution_count": 2
        }
      ]
    },
    {
      "cell_type": "code",
      "source": [
        "#exponenets\n",
        "5**2\n",
        "#modular division (the remainder after dividing by second number)\n",
        "7 % 2"
      ],
      "metadata": {
        "colab": {
          "base_uri": "https://localhost:8080/"
        },
        "id": "J2OiYTuYre2f",
        "outputId": "caace801-49d6-429b-ee06-425bb4bd7026"
      },
      "execution_count": null,
      "outputs": [
        {
          "output_type": "execute_result",
          "data": {
            "text/plain": [
              "1"
            ]
          },
          "metadata": {},
          "execution_count": 6
        }
      ]
    },
    {
      "cell_type": "code",
      "source": [
        "# order of operation\n",
        "2 + 4 ** 2"
      ],
      "metadata": {
        "colab": {
          "base_uri": "https://localhost:8080/"
        },
        "id": "dCfr-kU9ru75",
        "outputId": "f5c259c4-6b5a-4232-9d43-46f1032bc3b6"
      },
      "execution_count": null,
      "outputs": [
        {
          "output_type": "execute_result",
          "data": {
            "text/plain": [
              "18"
            ]
          },
          "metadata": {},
          "execution_count": 7
        }
      ]
    },
    {
      "cell_type": "code",
      "source": [
        "# arithmetic Functions\n",
        "round (12.5)\n",
        "# abs(), sum()"
      ],
      "metadata": {
        "colab": {
          "base_uri": "https://localhost:8080/"
        },
        "id": "VrcHbW_ws1mL",
        "outputId": "3ca41633-cef6-4b25-de6a-c01d3528367f"
      },
      "execution_count": null,
      "outputs": [
        {
          "output_type": "execute_result",
          "data": {
            "text/plain": [
              "12"
            ]
          },
          "metadata": {},
          "execution_count": 8
        }
      ]
    },
    {
      "cell_type": "code",
      "source": [
        "# function in python are of the form\n",
        "# function_name()\n",
        "# argument functions are seperated by commas\n",
        "help(round)"
      ],
      "metadata": {
        "colab": {
          "base_uri": "https://localhost:8080/"
        },
        "id": "Ti3ETU9xL7kk",
        "outputId": "5a8fc466-d7fb-4dee-9a75-d86da49161f8"
      },
      "execution_count": null,
      "outputs": [
        {
          "output_type": "stream",
          "name": "stdout",
          "text": [
            "Help on built-in function round in module builtins:\n",
            "\n",
            "round(number, ndigits=None)\n",
            "    Round a number to a given precision in decimal digits.\n",
            "\n",
            "    The return value is an integer if ndigits is omitted or None.  Otherwise\n",
            "    the return value has the same type as the number.  ndigits may be negative.\n",
            "\n"
          ]
        }
      ]
    },
    {
      "cell_type": "code",
      "source": [
        "round(0.50)"
      ],
      "metadata": {
        "colab": {
          "base_uri": "https://localhost:8080/"
        },
        "id": "xQZ2Y2HLMdlH",
        "outputId": "91072e07-f386-4c1c-e417-331258ec8e54"
      },
      "execution_count": null,
      "outputs": [
        {
          "output_type": "execute_result",
          "data": {
            "text/plain": [
              "0"
            ]
          },
          "metadata": {},
          "execution_count": 5
        }
      ]
    },
    {
      "cell_type": "markdown",
      "source": [
        "## Strings"
      ],
      "metadata": {
        "id": "fTJDkRX5MuRs"
      }
    },
    {
      "cell_type": "code",
      "source": [
        "# strings are either single or double qouted\n",
        "'hello'"
      ],
      "metadata": {
        "colab": {
          "base_uri": "https://localhost:8080/",
          "height": 36
        },
        "id": "jFaluvrrMxfl",
        "outputId": "325b73e1-51f9-4334-da99-070116496aef"
      },
      "execution_count": null,
      "outputs": [
        {
          "output_type": "execute_result",
          "data": {
            "text/plain": [
              "'hello'"
            ],
            "application/vnd.google.colaboratory.intrinsic+json": {
              "type": "string"
            }
          },
          "metadata": {},
          "execution_count": 7
        }
      ]
    },
    {
      "cell_type": "code",
      "source": [
        "\"world\""
      ],
      "metadata": {
        "colab": {
          "base_uri": "https://localhost:8080/",
          "height": 36
        },
        "id": "E-lcPv1fM47m",
        "outputId": "1b4b7b72-fb05-4520-fdd9-41189b4e06bd"
      },
      "execution_count": null,
      "outputs": [
        {
          "output_type": "execute_result",
          "data": {
            "text/plain": [
              "'world'"
            ],
            "application/vnd.google.colaboratory.intrinsic+json": {
              "type": "string"
            }
          },
          "metadata": {},
          "execution_count": 8
        }
      ]
    },
    {
      "cell_type": "code",
      "source": [
        "# practice: create some strings and use some arithmetic on the,\n",
        "'my name is ' + 'brandon'"
      ],
      "metadata": {
        "colab": {
          "base_uri": "https://localhost:8080/",
          "height": 36
        },
        "id": "BNp2KnjhNHoQ",
        "outputId": "fe742467-e78c-4290-9f3d-24b8f881531e"
      },
      "execution_count": null,
      "outputs": [
        {
          "output_type": "execute_result",
          "data": {
            "text/plain": [
              "'my name is brandon'"
            ],
            "application/vnd.google.colaboratory.intrinsic+json": {
              "type": "string"
            }
          },
          "metadata": {},
          "execution_count": 16
        }
      ]
    },
    {
      "cell_type": "code",
      "source": [
        "'my name is brandon' * 4"
      ],
      "metadata": {
        "colab": {
          "base_uri": "https://localhost:8080/",
          "height": 36
        },
        "id": "pd4rx537N7eJ",
        "outputId": "22ee4927-261c-44b2-f035-861d3346063d"
      },
      "execution_count": null,
      "outputs": [
        {
          "output_type": "execute_result",
          "data": {
            "text/plain": [
              "'my name is my name is my name is my name is '"
            ],
            "application/vnd.google.colaboratory.intrinsic+json": {
              "type": "string"
            }
          },
          "metadata": {},
          "execution_count": 19
        }
      ]
    },
    {
      "cell_type": "code",
      "source": [
        "len('my name is brandon ')"
      ],
      "metadata": {
        "colab": {
          "base_uri": "https://localhost:8080/"
        },
        "id": "lcfY4P81OGf4",
        "outputId": "d9eb20aa-bd61-4627-9616-38d72e042779"
      },
      "execution_count": null,
      "outputs": [
        {
          "output_type": "execute_result",
          "data": {
            "text/plain": [
              "19"
            ]
          },
          "metadata": {},
          "execution_count": 21
        }
      ]
    },
    {
      "cell_type": "code",
      "source": [
        "# valiues and types\n",
        "type('hello')"
      ],
      "metadata": {
        "colab": {
          "base_uri": "https://localhost:8080/"
        },
        "id": "zkM5n7gtO5eG",
        "outputId": "980e6ec7-7a81-430e-a13d-029d0e18c91c"
      },
      "execution_count": null,
      "outputs": [
        {
          "output_type": "execute_result",
          "data": {
            "text/plain": [
              "str"
            ]
          },
          "metadata": {},
          "execution_count": 23
        }
      ]
    },
    {
      "cell_type": "code",
      "source": [
        "# convert to float\n",
        "float(2)"
      ],
      "metadata": {
        "colab": {
          "base_uri": "https://localhost:8080/"
        },
        "id": "oEE6xKjiPOpC",
        "outputId": "c5534c73-ff18-43c6-ea05-bedc9276e8c0"
      },
      "execution_count": null,
      "outputs": [
        {
          "output_type": "execute_result",
          "data": {
            "text/plain": [
              "2.0"
            ]
          },
          "metadata": {},
          "execution_count": 24
        }
      ]
    },
    {
      "cell_type": "code",
      "source": [
        "#type errors occur when operands dont work\n",
        "'120' / 3"
      ],
      "metadata": {
        "colab": {
          "base_uri": "https://localhost:8080/",
          "height": 158
        },
        "id": "39gwf2QxQFc0",
        "outputId": "6cef4f79-8563-48f6-8fc7-c598a2dc7232"
      },
      "execution_count": null,
      "outputs": [
        {
          "output_type": "error",
          "ename": "TypeError",
          "evalue": "unsupported operand type(s) for /: 'str' and 'int'",
          "traceback": [
            "\u001b[0;31m---------------------------------------------------------------------------\u001b[0m",
            "\u001b[0;31mTypeError\u001b[0m                                 Traceback (most recent call last)",
            "\u001b[0;32m/tmp/ipython-input-276950158.py\u001b[0m in \u001b[0;36m<cell line: 0>\u001b[0;34m()\u001b[0m\n\u001b[1;32m      1\u001b[0m \u001b[0;31m#type errors occur when operands dont work\u001b[0m\u001b[0;34m\u001b[0m\u001b[0;34m\u001b[0m\u001b[0m\n\u001b[0;32m----> 2\u001b[0;31m \u001b[0;34m'120'\u001b[0m \u001b[0;34m/\u001b[0m \u001b[0;36m3\u001b[0m\u001b[0;34m\u001b[0m\u001b[0;34m\u001b[0m\u001b[0m\n\u001b[0m",
            "\u001b[0;31mTypeError\u001b[0m: unsupported operand type(s) for /: 'str' and 'int'"
          ]
        }
      ]
    },
    {
      "cell_type": "code",
      "source": [],
      "metadata": {
        "id": "UaH3LIt_QQPM"
      },
      "execution_count": null,
      "outputs": []
    },
    {
      "cell_type": "markdown",
      "source": [
        "## Variables and statements"
      ],
      "metadata": {
        "id": "pWe3zIVvQe2D"
      }
    },
    {
      "cell_type": "code",
      "source": [
        "# assignment is done with =\n",
        "x = 10\n",
        "pi = 3.14\n",
        "message = 'here we go'"
      ],
      "metadata": {
        "id": "ETq4nvw_Qinx"
      },
      "execution_count": null,
      "outputs": []
    },
    {
      "cell_type": "code",
      "source": [
        "type(x)"
      ],
      "metadata": {
        "colab": {
          "base_uri": "https://localhost:8080/"
        },
        "id": "QBEOw-UqRENN",
        "outputId": "fa132fc8-aa10-4cb4-aa99-890e7ce82013"
      },
      "execution_count": null,
      "outputs": [
        {
          "output_type": "execute_result",
          "data": {
            "text/plain": [
              "int"
            ]
          },
          "metadata": {},
          "execution_count": 29
        }
      ]
    },
    {
      "cell_type": "code",
      "source": [
        "len(message)"
      ],
      "metadata": {
        "colab": {
          "base_uri": "https://localhost:8080/"
        },
        "id": "HhyxuLggRFtB",
        "outputId": "d20ad4b2-238e-4a28-9e61-1e625498cd1a"
      },
      "execution_count": null,
      "outputs": [
        {
          "output_type": "execute_result",
          "data": {
            "text/plain": [
              "10"
            ]
          },
          "metadata": {},
          "execution_count": 31
        }
      ]
    },
    {
      "cell_type": "code",
      "source": [
        "len(pi)"
      ],
      "metadata": {
        "colab": {
          "base_uri": "https://localhost:8080/",
          "height": 141
        },
        "id": "X-QT3zUDRajK",
        "outputId": "e643aa4d-4aa9-4a4f-a11d-6df75eccc405"
      },
      "execution_count": null,
      "outputs": [
        {
          "output_type": "error",
          "ename": "TypeError",
          "evalue": "object of type 'float' has no len()",
          "traceback": [
            "\u001b[0;31m---------------------------------------------------------------------------\u001b[0m",
            "\u001b[0;31mTypeError\u001b[0m                                 Traceback (most recent call last)",
            "\u001b[0;32m/tmp/ipython-input-767840405.py\u001b[0m in \u001b[0;36m<cell line: 0>\u001b[0;34m()\u001b[0m\n\u001b[0;32m----> 1\u001b[0;31m \u001b[0mlen\u001b[0m\u001b[0;34m(\u001b[0m\u001b[0mpi\u001b[0m\u001b[0;34m)\u001b[0m\u001b[0;34m\u001b[0m\u001b[0;34m\u001b[0m\u001b[0m\n\u001b[0m",
            "\u001b[0;31mTypeError\u001b[0m: object of type 'float' has no len()"
          ]
        }
      ]
    },
    {
      "cell_type": "code",
      "source": [
        "john_1=2"
      ],
      "metadata": {
        "id": "F0zpmnXhRgFD"
      },
      "execution_count": null,
      "outputs": []
    },
    {
      "cell_type": "code",
      "source": [
        "john"
      ],
      "metadata": {
        "colab": {
          "base_uri": "https://localhost:8080/"
        },
        "id": "RHJroU-ZSntS",
        "outputId": "235796a8-cb44-4d09-f336-0afe228fa73a"
      },
      "execution_count": null,
      "outputs": [
        {
          "output_type": "execute_result",
          "data": {
            "text/plain": [
              "2"
            ]
          },
          "metadata": {},
          "execution_count": 46
        }
      ]
    },
    {
      "cell_type": "code",
      "source": [
        "# here is what works (john=2 john2=2 john_1+)\n",
        "# here is what doesnt work (john12+1=2 john@=2)\n",
        "\n",
        "# what doesn work\n",
        "x+y=3 #operations\n",
        "bob my = 9 #symbols/special characters\n",
        "and = 9 # special python keywords\n",
        "1x= 9 # numbers in front of a variable name"
      ],
      "metadata": {
        "colab": {
          "base_uri": "https://localhost:8080/",
          "height": 106
        },
        "id": "-oCF5cGeSKBS",
        "outputId": "3fc71b2c-e1a6-4ee8-ca4b-b998d9bde7b8"
      },
      "execution_count": null,
      "outputs": [
        {
          "output_type": "error",
          "ename": "SyntaxError",
          "evalue": "cannot assign to expression here. Maybe you meant '==' instead of '='? (ipython-input-296347980.py, line 5)",
          "traceback": [
            "\u001b[0;36m  File \u001b[0;32m\"/tmp/ipython-input-296347980.py\"\u001b[0;36m, line \u001b[0;32m5\u001b[0m\n\u001b[0;31m    x+y=3 #operations\u001b[0m\n\u001b[0m    ^\u001b[0m\n\u001b[0;31mSyntaxError\u001b[0m\u001b[0;31m:\u001b[0m cannot assign to expression here. Maybe you meant '==' instead of '='?\n"
          ]
        }
      ]
    },
    {
      "cell_type": "markdown",
      "source": [
        "\n",
        "\n",
        "``` python\n",
        "`# here is what works (john=2 john2=2 john_1+)\n",
        "# here is what doesnt work (john12+1=2 john@=2)\n",
        "\n",
        "# what doesn work\n",
        "x+y=3 #operations\n",
        "bob my = 9 #symbols/special characters\n",
        "and = 9 # special python keywords\n",
        "1x= 9 # numbers in front of a variable name`\n",
        "```\n",
        "\n",
        "\n",
        "\n"
      ],
      "metadata": {
        "id": "mWfgPJUaUL0t"
      }
    },
    {
      "cell_type": "code",
      "source": [
        "# importing library/modules\n",
        "import math"
      ],
      "metadata": {
        "id": "G7Bl3UBGUwPr"
      },
      "execution_count": null,
      "outputs": []
    },
    {
      "cell_type": "code",
      "source": [
        "# importing math modules give access to variables and functions\n",
        "math.pi"
      ],
      "metadata": {
        "colab": {
          "base_uri": "https://localhost:8080/"
        },
        "id": "RV7voZj6U-az",
        "outputId": "052c9442-ec80-4efa-e717-4eede9e87b87"
      },
      "execution_count": null,
      "outputs": [
        {
          "output_type": "execute_result",
          "data": {
            "text/plain": [
              "3.141592653589793"
            ]
          },
          "metadata": {},
          "execution_count": 53
        }
      ]
    },
    {
      "cell_type": "code",
      "source": [
        "math.pow(5,2)"
      ],
      "metadata": {
        "colab": {
          "base_uri": "https://localhost:8080/"
        },
        "id": "qKAQBfQqVJTc",
        "outputId": "4f5ba736-456f-4fce-97ad-928bc8913c2b"
      },
      "execution_count": null,
      "outputs": [
        {
          "output_type": "execute_result",
          "data": {
            "text/plain": [
              "25.0"
            ]
          },
          "metadata": {},
          "execution_count": 54
        }
      ]
    },
    {
      "cell_type": "code",
      "source": [
        "#investigate the other functions in math\n",
        "math."
      ],
      "metadata": {
        "colab": {
          "base_uri": "https://localhost:8080/",
          "height": 158
        },
        "id": "XkNpJK9mVMFM",
        "outputId": "f84c281c-a772-413a-b314-1886b8a3fc8e"
      },
      "execution_count": null,
      "outputs": [
        {
          "output_type": "error",
          "ename": "TypeError",
          "evalue": "'int' object is not iterable",
          "traceback": [
            "\u001b[0;31m---------------------------------------------------------------------------\u001b[0m",
            "\u001b[0;31mTypeError\u001b[0m                                 Traceback (most recent call last)",
            "\u001b[0;32m/tmp/ipython-input-3615228993.py\u001b[0m in \u001b[0;36m<cell line: 0>\u001b[0;34m()\u001b[0m\n\u001b[1;32m      1\u001b[0m \u001b[0;31m#investigate the other functions in math\u001b[0m\u001b[0;34m\u001b[0m\u001b[0;34m\u001b[0m\u001b[0m\n\u001b[0;32m----> 2\u001b[0;31m \u001b[0mmath\u001b[0m\u001b[0;34m.\u001b[0m\u001b[0mprod\u001b[0m\u001b[0;34m(\u001b[0m\u001b[0;36m2\u001b[0m\u001b[0;34m)\u001b[0m\u001b[0;34m\u001b[0m\u001b[0;34m\u001b[0m\u001b[0m\n\u001b[0m",
            "\u001b[0;31mTypeError\u001b[0m: 'int' object is not iterable"
          ]
        }
      ]
    },
    {
      "cell_type": "markdown",
      "source": [
        "other fucntions people considered\n",
        "\n",
        "\n",
        "```python\n",
        "math.hypot # 2 sides of a triangle returns hypotenuse\n",
        "math.perm # does a permutation (n chose k)\n",
        "math.exp # e raised to a value\n",
        "```\n",
        "\n"
      ],
      "metadata": {
        "id": "2No8ZrvLWTuq"
      }
    },
    {
      "cell_type": "code",
      "source": [
        "#scientific/math modules\n",
        "import numpy as np # numerical python\n",
        "import sympy as sym # symbolic python"
      ],
      "metadata": {
        "id": "B30p5zPQWZ10"
      },
      "execution_count": null,
      "outputs": []
    },
    {
      "cell_type": "code",
      "source": [
        "# import a submodule from a module\n",
        "from sympy import symbols"
      ],
      "metadata": {
        "id": "N3FO8vI0W532"
      },
      "execution_count": null,
      "outputs": []
    },
    {
      "cell_type": "code",
      "source": [
        "y = symbols('y')"
      ],
      "metadata": {
        "id": "UvaE9ZW1XlT1"
      },
      "execution_count": null,
      "outputs": []
    },
    {
      "cell_type": "code",
      "source": [
        "z = symbols('z')"
      ],
      "metadata": {
        "id": "zLgbyOFlXsP_"
      },
      "execution_count": null,
      "outputs": []
    },
    {
      "cell_type": "code",
      "source": [
        "y+2*z"
      ],
      "metadata": {
        "colab": {
          "base_uri": "https://localhost:8080/",
          "height": 39
        },
        "id": "hz2hlFSzX42h",
        "outputId": "e73e56c8-be65-4293-a868-51209401659f"
      },
      "execution_count": null,
      "outputs": [
        {
          "output_type": "execute_result",
          "data": {
            "text/plain": [
              "y + 2*z"
            ],
            "text/latex": "$\\displaystyle y + 2 z$"
          },
          "metadata": {},
          "execution_count": 65
        }
      ]
    },
    {
      "cell_type": "code",
      "source": [
        "# symbolicaly expand\n",
        "sym.expand((y+z)**2)"
      ],
      "metadata": {
        "colab": {
          "base_uri": "https://localhost:8080/",
          "height": 39
        },
        "id": "HpBXtU7pX8Wa",
        "outputId": "30f4933e-ca84-4692-ad84-7b8647c4d002"
      },
      "execution_count": null,
      "outputs": [
        {
          "output_type": "execute_result",
          "data": {
            "text/plain": [
              "y**2 + 2*y*z + z**2"
            ],
            "text/latex": "$\\displaystyle y^{2} + 2 y z + z^{2}$"
          },
          "metadata": {},
          "execution_count": 69
        }
      ]
    },
    {
      "cell_type": "code",
      "source": [
        "# symbolicaly differentiate\n",
        "sym.diff(sym.sin(y),y)"
      ],
      "metadata": {
        "colab": {
          "base_uri": "https://localhost:8080/",
          "height": 39
        },
        "id": "YVqihqKUYPoW",
        "outputId": "72844e93-e001-4166-bb9a-bde3a0354a55"
      },
      "execution_count": null,
      "outputs": [
        {
          "output_type": "execute_result",
          "data": {
            "text/plain": [
              "cos(y)"
            ],
            "text/latex": "$\\displaystyle \\cos{\\left(y \\right)}$"
          },
          "metadata": {},
          "execution_count": 70
        }
      ]
    },
    {
      "cell_type": "code",
      "source": [
        "# matrix eigenvalues\n",
        "sym.Matrix([[1,0],[0,4]]).eigenvals()"
      ],
      "metadata": {
        "colab": {
          "base_uri": "https://localhost:8080/"
        },
        "id": "tXytL73mYhMf",
        "outputId": "11ccde7a-a236-4a3e-c326-5039f7de0515"
      },
      "execution_count": null,
      "outputs": [
        {
          "output_type": "execute_result",
          "data": {
            "text/plain": [
              "{1: 1, 4: 1}"
            ]
          },
          "metadata": {},
          "execution_count": 72
        }
      ]
    },
    {
      "cell_type": "code",
      "source": [
        "# solve equations (left hand side = 0)\n",
        "sym.solve(y**2-2*sym.sin(z), z)"
      ],
      "metadata": {
        "colab": {
          "base_uri": "https://localhost:8080/"
        },
        "id": "J_ZEf3bTZOzJ",
        "outputId": "4d9cee37-8589-47cb-cf48-5e089bdca51f"
      },
      "execution_count": null,
      "outputs": [
        {
          "output_type": "execute_result",
          "data": {
            "text/plain": [
              "[pi - asin(y**2/2), asin(y**2/2)]"
            ]
          },
          "metadata": {},
          "execution_count": 73
        }
      ]
    },
    {
      "cell_type": "code",
      "source": [
        "# print statements\n",
        "print(message)\n",
        "print('hello',message)"
      ],
      "metadata": {
        "colab": {
          "base_uri": "https://localhost:8080/"
        },
        "id": "iCMB82j_aPDn",
        "outputId": "fe342a40-adef-4a4a-8d02-f10337a44d34"
      },
      "execution_count": null,
      "outputs": [
        {
          "output_type": "stream",
          "name": "stdout",
          "text": [
            "here we go\n",
            "hello here we go\n"
          ]
        }
      ]
    },
    {
      "cell_type": "code",
      "source": [],
      "metadata": {
        "id": "cO_yyHg7a093"
      },
      "execution_count": null,
      "outputs": []
    }
  ]
}